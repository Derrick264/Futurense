{
 "cells": [
  {
   "cell_type": "markdown",
   "id": "d758f60a",
   "metadata": {},
   "source": [
    "## CineMatch -\n",
    "\n",
    "### This project is a movie recommendation system implemented in Python using in-memory data structures. \n",
    "### It allows users to dynamically add movies with details such as title, actors, genre, and industry, and provides functionalities to search for movies, display ratings, and recommend top-rated movies based on user preferences."
   ]
  },
  {
   "cell_type": "markdown",
   "id": "e8b0fdd4",
   "metadata": {},
   "source": [
    "### Step 1: Define the scoring system"
   ]
  },
  {
   "cell_type": "code",
   "execution_count": 1,
   "id": "76a276e3",
   "metadata": {},
   "outputs": [],
   "source": [
    "actor_scores = {\n",
    "    # Bollywood actors\n",
    "    \"Kareena kapoor\": 9,\n",
    "    \"Shahid kapoor\": 9,\n",
    "    \"Salman Khan\": 8,\n",
    "    \"Aamir Khan\": 9,\n",
    "    \"Akshay Kumar\": 8,\n",
    "    \"Deepika Padukone\": 7,\n",
    "    \"Priyanka Chopra\": 8,\n",
    "    \"Ranveer Singh\": 7,\n",
    "    \"Alia Bhatt\": 8,\n",
    "    \"Amitabh Bachan\": 7,\n",
    "\n",
    "    # Tollywood actors\n",
    "    \"Prabhas\": 8,\n",
    "    \"Mahesh Babu\": 9,\n",
    "    \"Pawan Kalyan\": 7,\n",
    "    \"Ram Charan\": 8,\n",
    "    \"Jr. NTR\": 8,\n",
    "    \"Anushka Shetty\": 7,\n",
    "    \"Samantha Akkineni\": 7,\n",
    "\n",
    "    # Kollywood actors\n",
    "    \"Rajinikanth\": 9,\n",
    "    \"Kamal Haasan\": 9,\n",
    "    \"Vijay\": 8,\n",
    "    \"Ajith Kumar\": 8,\n",
    "    \"Suriya\": 8,\n",
    "    \"Vikram\": 8,\n",
    "    \"Nayanthara\": 7,\n",
    "\n",
    "    # Mollywood actors\n",
    "    \"Mohanlal\": 9,\n",
    "    \"Mammootty\": 9,\n",
    "    \"Dulquer Salmaan\": 8,\n",
    "    \"Prithviraj Sukumaran\": 8,\n",
    "    \"Nivin Pauly\": 7,\n",
    "    \"Fahadh Faasil\": 8,\n",
    "    \"Parvathy Thiruvothu\": 7\n",
    "}\n",
    "\n",
    "industry_scores = {\n",
    "    \"Bollywood\": 10,\n",
    "    \"Tollywood\": 8,\n",
    "    \"Kollywood\": 7,\n",
    "    \"Mollywood\": 6\n",
    "}\n",
    "\n",
    "genre_scores = {\n",
    "    \"Action\": 8,\n",
    "    \"Comedy\": 7,\n",
    "    \"Drama\": 6,\n",
    "    \"Thriller\": 7,\n",
    "    \"Romance\": 6,\n",
    "    \"Science Fiction\": 5\n",
    "}\n",
    "\n",
    "movies = {}\n"
   ]
  },
  {
   "cell_type": "markdown",
   "id": "211eafbd",
   "metadata": {},
   "source": [
    "### Step 2: Define the calculate_rating function"
   ]
  },
  {
   "cell_type": "code",
   "execution_count": 2,
   "id": "926f709a",
   "metadata": {},
   "outputs": [],
   "source": [
    "\n",
    "def calculate_rating(actors, industry, genre):\n",
    "    actor_score = sum(actor_scores.get(actor, 5) for actor in actors) / len(actors)\n",
    "    industry_score = industry_scores.get(industry, 5)\n",
    "    genre_score = genre_scores.get(genre, 5)\n",
    "    final_rating = (actor_score + industry_score + genre_score) / 3\n",
    "    return round(final_rating, 1)"
   ]
  },
  {
   "cell_type": "markdown",
   "id": "9b474144",
   "metadata": {},
   "source": [
    "### Step 3: Define the add_movie function"
   ]
  },
  {
   "cell_type": "code",
   "execution_count": 3,
   "id": "2e3d3335",
   "metadata": {},
   "outputs": [],
   "source": [
    "\n",
    "\n",
    "def add_movie(title, actors, industry, genre):\n",
    "    rating = calculate_rating(actors, industry, genre)\n",
    "    movies[title] = {\n",
    "        'title': title,\n",
    "        'actors': actors,\n",
    "        'industry': industry,\n",
    "        'genre': genre,\n",
    "        'rating': rating\n",
    "    }\n",
    "    return rating"
   ]
  },
  {
   "cell_type": "markdown",
   "id": "bc52a542",
   "metadata": {},
   "source": [
    "### Step 4: Define functions for displaying and searching movies"
   ]
  },
  {
   "cell_type": "code",
   "execution_count": 4,
   "id": "aed9c420",
   "metadata": {},
   "outputs": [],
   "source": [
    "\n",
    "\n",
    "def display_movies():\n",
    "    for title, details in movies.items():\n",
    "        print(f\"Title: {details['title']}, Actors: {', '.join(details['actors'])}, \"\n",
    "              f\"Industry: {details['industry']}, Genre: {details['genre']}, Rating: {details['rating']}\")\n",
    "\n",
    "def search_by_title(title):\n",
    "    return [details for details in movies.values() if title.lower() in details['title'].lower()]\n",
    "\n",
    "def search_by_genre(genre):\n",
    "    return [details for details in movies.values() if genre.lower() in details['genre'].lower()]\n",
    "\n",
    "def search_by_rating(rating):\n",
    "    return [details for details in movies.values() if details['rating'] == rating]\n",
    "\n",
    "def recommend_top_n_movies(n):\n",
    "    sorted_movies = sorted(movies.values(), key=lambda x: x['rating'], reverse=True)\n",
    "    return sorted_movies[:n]"
   ]
  },
  {
   "cell_type": "markdown",
   "id": "45b42452",
   "metadata": {},
   "source": [
    "### Step 5: Define the main function"
   ]
  },
  {
   "cell_type": "code",
   "execution_count": null,
   "id": "2866b654",
   "metadata": {},
   "outputs": [
    {
     "name": "stdout",
     "output_type": "stream",
     "text": [
      "\n",
      "Menu:\n",
      "1. Add Movie\n",
      "2. Display All Movies\n",
      "3. Search Movie by Title\n",
      "4. Search Movie by Genre\n",
      "5. Search Movie by Rating\n",
      "6. Recommend Top N Movies\n",
      "7. Exit\n",
      "Enter your choice: 1\n",
      "Enter movie title: Tiger 3\n",
      "Enter movie actors (comma-separated): Salman Khan\n"
     ]
    }
   ],
   "source": [
    "\n",
    "\n",
    "def main():\n",
    "    # Add some initial movies\n",
    "    add_movie(\"Drishyam\", [\"Mohanlal\", \"Meena\"], \"Mollywood\", \"Thriller\")\n",
    "    add_movie(\"Dilwale Dulhania Le Jayenge\", [\"Shah Rukh Khan\", \"Kajol\"], \"Bollywood\", \"Romance\")\n",
    "    add_movie(\"Baahubali: The Beginning\", [\"Prabhas\", \"Rana Daggubati\"], \"Tollywood\", \"Action\")\n",
    "    add_movie(\"3 Idiots\", [\"Aamir Khan\", \"R. Madhavan\", \"Sharman Joshi\"], \"Bollywood\", \"Comedy\")\n",
    "    add_movie(\"Kabhi Khushi Kabhie Gham\", [\"Shah Rukh Khan\", \"Amitabh Bachchan\", \"Kajol\", \"Hrithik Roshan\"], \"Bollywood\", \"Drama\")\n",
    "    add_movie(\"Padmaavat\", [\"Ranveer Singh\", \"Deepika Padukone\", \"Shahid Kapoor\"], \"Bollywood\", \"Drama\")\n",
    "    add_movie(\"PK\", [\"Aamir Khan\", \"Anushka Sharma\"], \"Bollywood\", \"Comedy\")\n",
    "    add_movie(\"Dangal\", [\"Aamir Khan\", \"Sakshi Tanwar\"], \"Bollywood\", \"Drama\")\n",
    "    add_movie(\"Chennai Express\", [\"Shah Rukh Khan\", \"Deepika Padukone\"], \"Bollywood\", \"Action\")\n",
    "    add_movie(\"Bajrangi Bhaijaan\", [\"Salman Khan\", \"Harshaali Malhotra\"], \"Bollywood\", \"Drama\")\n",
    "    add_movie(\"Mahanati\", [\"Keerthy Suresh\", \"Dulquer Salmaan\"], \"Tollywood\", \"Drama\")\n",
    "    add_movie(\"Visaranai\", [\"Dinesh\", \"Samuthirakani\"], \"Kollywood\", \"Thriller\")\n",
    "    add_movie(\"Sholay\", [\"Amitabh Bachchan\", \"Dharmendra\"], \"Bollywood\", \"Action\")\n",
    "\n",
    "    while True:\n",
    "        print(\"\\nMenu:\")\n",
    "        print(\"1. Add Movie\")\n",
    "        print(\"2. Display All Movies\")\n",
    "        print(\"3. Search Movie by Title\")\n",
    "        print(\"4. Search Movie by Genre\")\n",
    "        print(\"5. Search Movie by Rating\")\n",
    "        print(\"6. Recommend Top N Movies\")\n",
    "        print(\"7. Exit\")\n",
    "        \n",
    "        choice = input(\"Enter your choice: \")\n",
    "        \n",
    "        if choice == '1':\n",
    "            title = input(\"Enter movie title: \")\n",
    "            actors = input(\"Enter movie actors (comma-separated): \").split(\", \")\n",
    "            industry = input(\"Enter movie industry: \")\n",
    "            genre = input(\"Enter movie genre: \")\n",
    "            rating = add_movie(title, actors, industry, genre)\n",
    "            print(f\"Movie '{title}' added with rating: {rating}\")\n",
    "        elif choice == '2':\n",
    "            display_movies()\n",
    "        elif choice == '3':\n",
    "            title = input(\"Enter movie title to search: \")\n",
    "            results = search_by_title(title)\n",
    "            for result in results:\n",
    "                print(result)\n",
    "        elif choice == '4':\n",
    "            genre = input(\"Enter movie genre to search: \")\n",
    "            results = search_by_genre(genre)\n",
    "            for result in results:\n",
    "                print(result)\n",
    "        elif choice == '5':\n",
    "            rating = float(input(\"Enter movie rating to search: \"))\n",
    "            results = search_by_rating(rating)\n",
    "            for result in results:\n",
    "                print(result)\n",
    "        elif choice == '6':\n",
    "            n = int(input(\"Enter number of top movies to recommend: \"))\n",
    "            recommendations = recommend_top_n_movies(n)\n",
    "            for recommendation in recommendations:\n",
    "                print(recommendation)\n",
    "        elif choice == '7':\n",
    "            break\n",
    "        else:\n",
    "            print(\"Invalid choice, please try again.\")\n",
    "\n",
    "if __name__ == \"__main__\":\n",
    "    main()"
   ]
  },
  {
   "cell_type": "code",
   "execution_count": 6,
   "id": "67522195",
   "metadata": {},
   "outputs": [],
   "source": [
    "def recommend_top_n_movies(n):\n",
    "    # Sort movies by rating in descending order\n",
    "    sorted_movies = sorted(movies.values(), key=lambda x: x['rating'], reverse=True)\n",
    "    \n",
    "    # Select top N movies\n",
    "    top_n_movies = sorted_movies[:n]\n",
    "    \n",
    "    return top_n_movies\n"
   ]
  },
  {
   "cell_type": "code",
   "execution_count": 7,
   "id": "10d533ec",
   "metadata": {},
   "outputs": [
    {
     "name": "stdout",
     "output_type": "stream",
     "text": [
      "Top 5 Movies Based on Rating:\n",
      "1. Title: Tiger 2, Rating: 8.7, Genre: Action\n",
      "2. Title: PK, Rating: 8.0, Genre: Comedy\n",
      "3. Title: Chennai Express, Rating: 8.0, Genre: Action\n",
      "4. Title: 3 Idiots, Rating: 7.8, Genre: Comedy\n",
      "5. Title: Dangal, Rating: 7.7, Genre: Drama\n"
     ]
    }
   ],
   "source": [
    "# Example usage:\n",
    "n = 5  # Recommend top 5 movies\n",
    "top_movies = recommend_top_n_movies(n)\n",
    "\n",
    "print(f\"Top {n} Movies Based on Rating:\")\n",
    "for idx, movie in enumerate(top_movies, 1):\n",
    "    print(f\"{idx}. Title: {movie['title']}, Rating: {movie['rating']}, Genre: {movie['genre']}\")"
   ]
  },
  {
   "cell_type": "code",
   "execution_count": null,
   "id": "efa78f6f",
   "metadata": {},
   "outputs": [],
   "source": []
  }
 ],
 "metadata": {
  "kernelspec": {
   "display_name": "Python 3 (ipykernel)",
   "language": "python",
   "name": "python3"
  },
  "language_info": {
   "codemirror_mode": {
    "name": "ipython",
    "version": 3
   },
   "file_extension": ".py",
   "mimetype": "text/x-python",
   "name": "python",
   "nbconvert_exporter": "python",
   "pygments_lexer": "ipython3",
   "version": "3.9.13"
  }
 },
 "nbformat": 4,
 "nbformat_minor": 5
}
